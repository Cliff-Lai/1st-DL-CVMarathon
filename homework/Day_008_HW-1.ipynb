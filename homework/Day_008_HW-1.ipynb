{
 "cells": [
  {
   "cell_type": "code",
   "execution_count": 1,
   "metadata": {},
   "outputs": [],
   "source": [
    "import cv2\n",
    "import numpy as np\n",
    "\n",
    "img = cv2.imread('/Users/hwmp4/Documents/100day deep learning/Day 01/lena.png')"
   ]
  },
  {
   "cell_type": "code",
   "execution_count": 5,
   "metadata": {},
   "outputs": [
    {
     "ename": "NameError",
     "evalue": "name 'img_sobel_uint8' is not defined",
     "output_type": "error",
     "traceback": [
      "\u001b[1;31m---------------------------------------------------------------------------\u001b[0m",
      "\u001b[1;31mNameError\u001b[0m                                 Traceback (most recent call last)",
      "\u001b[1;32m<ipython-input-5-6f50fac9819c>\u001b[0m in \u001b[0;36m<module>\u001b[1;34m\u001b[0m\n\u001b[0;32m     11\u001b[0m \u001b[1;31m# 對 X 方向直接以非負整數的資料格式(unit8)進行Sobel邊緣檢測\u001b[0m\u001b[1;33m\u001b[0m\u001b[1;33m\u001b[0m\u001b[1;33m\u001b[0m\u001b[0m\n\u001b[0;32m     12\u001b[0m \u001b[0mimg_sobel_x_uint8\u001b[0m \u001b[1;33m=\u001b[0m \u001b[0mcv2\u001b[0m\u001b[1;33m.\u001b[0m\u001b[0mSobel\u001b[0m\u001b[1;33m(\u001b[0m\u001b[0mimg_grey\u001b[0m\u001b[1;33m,\u001b[0m \u001b[1;33m-\u001b[0m\u001b[1;36m1\u001b[0m\u001b[1;33m,\u001b[0m \u001b[0mdx\u001b[0m\u001b[1;33m=\u001b[0m\u001b[1;36m1\u001b[0m\u001b[1;33m,\u001b[0m \u001b[0mdy\u001b[0m\u001b[1;33m=\u001b[0m\u001b[1;36m0\u001b[0m\u001b[1;33m,\u001b[0m \u001b[0mksize\u001b[0m\u001b[1;33m=\u001b[0m\u001b[1;36m3\u001b[0m\u001b[1;33m)\u001b[0m\u001b[1;33m\u001b[0m\u001b[1;33m\u001b[0m\u001b[0m\n\u001b[1;32m---> 13\u001b[1;33m \u001b[0mimg_sobel_x_uint8\u001b[0m \u001b[1;33m=\u001b[0m \u001b[0mcv2\u001b[0m\u001b[1;33m.\u001b[0m\u001b[0mconvertScaleAbs\u001b[0m\u001b[1;33m(\u001b[0m\u001b[0mimg_sobel_uint8\u001b[0m\u001b[1;33m)\u001b[0m\u001b[1;33m\u001b[0m\u001b[1;33m\u001b[0m\u001b[0m\n\u001b[0m\u001b[0;32m     14\u001b[0m \u001b[1;33m\u001b[0m\u001b[0m\n\u001b[0;32m     15\u001b[0m \u001b[1;31m# 組合 + 顯示圖片\u001b[0m\u001b[1;33m\u001b[0m\u001b[1;33m\u001b[0m\u001b[1;33m\u001b[0m\u001b[0m\n",
      "\u001b[1;31mNameError\u001b[0m: name 'img_sobel_uint8' is not defined"
     ]
    }
   ],
   "source": [
    "# 轉為灰階圖片\n",
    "img_grey = cv2.cvtColor(img, cv2.COLOR_BGR2GRAY)\n",
    "\n",
    "# 對 X 方向以包含負數的資料格式(cv2.CV_16S) 進行Sobel邊緣檢測\n",
    "img_sobel_x = cv2.Sobel(img, cv2.CV_16S, dx=1, dy=0, ksize=3)\n",
    "img_sobel_x = cv2.convertScaleAbs(img_sobel_x)\n",
    "\n",
    "# 對 X 方向依照比例縮放到所有數值都是非負整數\n",
    "img_sobel_x = cv2.addWeighted(img_sobel_x, 0.5, 0, 0, 0, 0)\n",
    "\n",
    "# 對 X 方向直接以非負整數的資料格式(unit8)進行Sobel邊緣檢測\n",
    "img_sobel_x_uint8 = cv2.Sobel(img_grey, -1, dx=1, dy=0, ksize=3)\n",
    "img_sobel_x_uint8 = cv2.convertScaleAbs(img_sobel_uint8)\n",
    "\n",
    "# 組合 + 顯示圖片\n",
    "img_show = np.hstack((img_grey, img_sobel_x, img_sobel_x_uint8))\n",
    "while True:\n",
    "    # 比較 Sobel邊緣檢測的過程中針對負數操作的不同產生的差異\n",
    "    cv2.imshow('Edge Detection', img_show)\n",
    "    k = cv2.waitKey(0)\n",
    "    if k == 27:\n",
    "        cv2.destroyAllWindows()\n",
    "        break"
   ]
  },
  {
   "cell_type": "code",
   "execution_count": null,
   "metadata": {},
   "outputs": [],
   "source": []
  }
 ],
 "metadata": {
  "kernelspec": {
   "display_name": "Python 3",
   "language": "python",
   "name": "python3"
  },
  "language_info": {
   "codemirror_mode": {
    "name": "ipython",
    "version": 3
   },
   "file_extension": ".py",
   "mimetype": "text/x-python",
   "name": "python",
   "nbconvert_exporter": "python",
   "pygments_lexer": "ipython3",
   "version": "3.7.1"
  }
 },
 "nbformat": 4,
 "nbformat_minor": 2
}
