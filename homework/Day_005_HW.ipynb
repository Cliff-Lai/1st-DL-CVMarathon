{
 "cells": [
  {
   "cell_type": "code",
   "execution_count": 1,
   "metadata": {},
   "outputs": [],
   "source": [
    "import cv2\n",
    "import numpy as np\n",
    "\n",
    "img_path = '/Users/hwmp4/Documents/100day deep learning/Day 01/lena.png'\n",
    "img = cv2.imread(img_path, cv2.IMREAD_COLOR)"
   ]
  },
  {
   "cell_type": "code",
   "execution_count": null,
   "metadata": {},
   "outputs": [],
   "source": [
    "img_hw = img.copy()\n",
    "point1 = (60, 40)\n",
    "point2 = (420, 510)\n",
    "\n",
    "# 對明亮度做直方圖均衡\n",
    "# 原始圖片BGR圖片轉HSV圖片\n",
    "img_hw = cv2.cvtColor(img, cv2.COLOR_BGR2HSV)\n",
    "# 對明亮度做直方圖均衡 --> 對HSV的V做直方圖均衡\n",
    "img_hw[..., -1] = cv2.equalizeHist(img_hw[..., -1])\n",
    "# 將圖片轉回 BGR\n",
    "img_hw = cv2.cvtColor(img_hw, cv2.COLOR_HSV2BGR)\n",
    "\n",
    "# 劃出人物矩形邊框\n",
    "cv2.rectangle(img_hw, point1, point2, (0, 0, 255), 3)\n",
    "\n",
    "#水平鏡像 + 縮放處理(0.5倍)\n",
    "\n",
    "# 水平鏡像(圖片)\n",
    "img_hw = img_hw[:, : : -1, :]\n",
    "\n",
    "# 縮放處理(0.5倍)\n",
    "img_hw = cv2.resize(img_hw, None, fx=0.5, fy=0.5, interpolation=cv2.INTER_LINEAR)\n",
    "\n",
    "while True:\n",
    "    cv2.imshow('image', img_hw)\n",
    "    k = cv2.waitKey(0)\n",
    "    if k == 27:\n",
    "        cv2.destroyAllWindows()\n",
    "        break"
   ]
  },
  {
   "cell_type": "code",
   "execution_count": null,
   "metadata": {},
   "outputs": [],
   "source": []
  }
 ],
 "metadata": {
  "kernelspec": {
   "display_name": "Python 3",
   "language": "python",
   "name": "python3"
  },
  "language_info": {
   "codemirror_mode": {
    "name": "ipython",
    "version": 3
   },
   "file_extension": ".py",
   "mimetype": "text/x-python",
   "name": "python",
   "nbconvert_exporter": "python",
   "pygments_lexer": "ipython3",
   "version": "3.7.1"
  }
 },
 "nbformat": 4,
 "nbformat_minor": 2
}
